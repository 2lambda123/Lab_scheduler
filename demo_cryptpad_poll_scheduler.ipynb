{
 "cells": [
  {
   "cell_type": "code",
   "execution_count": 105,
   "metadata": {},
   "outputs": [
    {
     "name": "stdout",
     "output_type": "stream",
     "text": [
      "Removing TOTAL and cleaning up such that {'no': 0, 'maybe': 1, 'yes': 2}\n"
     ]
    },
    {
     "data": {
      "text/html": [
       "<div>\n",
       "<style scoped>\n",
       "    .dataframe tbody tr th:only-of-type {\n",
       "        vertical-align: middle;\n",
       "    }\n",
       "\n",
       "    .dataframe tbody tr th {\n",
       "        vertical-align: top;\n",
       "    }\n",
       "\n",
       "    .dataframe thead th {\n",
       "        text-align: right;\n",
       "    }\n",
       "</style>\n",
       "<table border=\"1\" class=\"dataframe\">\n",
       "  <thead>\n",
       "    <tr style=\"text-align: right;\">\n",
       "      <th></th>\n",
       "      <th>Ashwin</th>\n",
       "      <th>Guillaume</th>\n",
       "      <th>Aidan</th>\n",
       "      <th>Ali</th>\n",
       "      <th>Sagar</th>\n",
       "      <th>Arash</th>\n",
       "      <th>Elektra</th>\n",
       "    </tr>\n",
       "  </thead>\n",
       "  <tbody>\n",
       "    <tr>\n",
       "      <th>2018-11-26 10:00:00</th>\n",
       "      <td>1</td>\n",
       "      <td>0</td>\n",
       "      <td>2</td>\n",
       "      <td>1</td>\n",
       "      <td>2</td>\n",
       "      <td>1</td>\n",
       "      <td>1</td>\n",
       "    </tr>\n",
       "    <tr>\n",
       "      <th>2018-11-26 13:00:00</th>\n",
       "      <td>1</td>\n",
       "      <td>0</td>\n",
       "      <td>2</td>\n",
       "      <td>2</td>\n",
       "      <td>2</td>\n",
       "      <td>2</td>\n",
       "      <td>2</td>\n",
       "    </tr>\n",
       "    <tr>\n",
       "      <th>2018-11-26 15:00:00</th>\n",
       "      <td>1</td>\n",
       "      <td>0</td>\n",
       "      <td>2</td>\n",
       "      <td>2</td>\n",
       "      <td>2</td>\n",
       "      <td>2</td>\n",
       "      <td>2</td>\n",
       "    </tr>\n",
       "    <tr>\n",
       "      <th>2018-11-27 08:00:00</th>\n",
       "      <td>2</td>\n",
       "      <td>0</td>\n",
       "      <td>2</td>\n",
       "      <td>0</td>\n",
       "      <td>2</td>\n",
       "      <td>0</td>\n",
       "      <td>1</td>\n",
       "    </tr>\n",
       "    <tr>\n",
       "      <th>2018-11-27 13:00:00</th>\n",
       "      <td>1</td>\n",
       "      <td>0</td>\n",
       "      <td>2</td>\n",
       "      <td>2</td>\n",
       "      <td>2</td>\n",
       "      <td>2</td>\n",
       "      <td>2</td>\n",
       "    </tr>\n",
       "  </tbody>\n",
       "</table>\n",
       "</div>"
      ],
      "text/plain": [
       "                     Ashwin  Guillaume  Aidan   Ali  Sagar  Arash  Elektra\n",
       "2018-11-26 10:00:00       1          0       2    1      2      1        1\n",
       "2018-11-26 13:00:00       1          0       2    2      2      2        2\n",
       "2018-11-26 15:00:00       1          0       2    2      2      2        2\n",
       "2018-11-27 08:00:00       2          0       2    0      2      0        1\n",
       "2018-11-27 13:00:00       1          0       2    2      2      2        2"
      ]
     },
     "execution_count": 105,
     "metadata": {},
     "output_type": "execute_result"
    }
   ],
   "source": [
    "import pandas as pd\n",
    "import matplotlib.pyplot as plt\n",
    "import src.cryptpad_schedule as cs\n",
    "\n",
    "df = cs.load(\"data/SG1218-Lab-signup-list.csv\")\n",
    "# Optional\n",
    "df.index = pd.to_datetime(df.index)\n",
    "\n",
    "# Ignore Yushi for now\n",
    "df = df.drop(\"Yushi\", axis=1)\n",
    "\n",
    "df.head()"
   ]
  },
  {
   "cell_type": "markdown",
   "metadata": {},
   "source": [
    "# Try assigning iteratively and using randomized choices biased by probability"
   ]
  },
  {
   "cell_type": "code",
   "execution_count": 75,
   "metadata": {},
   "outputs": [
    {
     "name": "stdout",
     "output_type": "stream",
     "text": [
      "MAYBE=\n",
      " Index(['Ashwin', 'Ali', 'Arash', 'Elektra'], dtype='object') \n",
      "\n",
      "YES=\n",
      " Index(['Aidan ', 'Sagar'], dtype='object')\n"
     ]
    }
   ],
   "source": [
    "row = df.iloc[0]\n",
    "maybe = cs.get_tas_by_status(row, \"maybe\")\n",
    "yes = cs.get_tas_by_status(row, \"yes\")\n",
    "print(\"MAYBE=\\n\", maybe, \"\\n\\nYES=\\n\", yes)"
   ]
  },
  {
   "cell_type": "code",
   "execution_count": 173,
   "metadata": {},
   "outputs": [
    {
     "data": {
      "text/plain": [
       "Ashwin       7\n",
       "Aidan        6\n",
       "Ali          5\n",
       "Guillaume    4\n",
       "Elektra      4\n",
       "Sagar        3\n",
       "Arash        1\n",
       "dtype: int64"
      ]
     },
     "execution_count": 173,
     "metadata": {},
     "output_type": "execute_result"
    }
   ],
   "source": [
    "counts"
   ]
  },
  {
   "cell_type": "code",
   "execution_count": 174,
   "metadata": {},
   "outputs": [
    {
     "data": {
      "text/plain": [
       "(Index(['Aidan ', 'Sagar'], dtype='object'),\n",
       " Index(['Ashwin', 'Ali', 'Arash', 'Elektra'], dtype='object'))"
      ]
     },
     "execution_count": 174,
     "metadata": {},
     "output_type": "execute_result"
    }
   ],
   "source": [
    "yes, maybe"
   ]
  },
  {
   "cell_type": "code",
   "execution_count": 191,
   "metadata": {},
   "outputs": [
    {
     "data": {
      "text/plain": [
       "Aidan     0.266667\n",
       "Sagar     0.533333\n",
       "dtype: float64"
      ]
     },
     "execution_count": 191,
     "metadata": {},
     "output_type": "execute_result"
    }
   ],
   "source": [
    "(1 - (counts[yes] / counts[yes].sum())) * 0.8"
   ]
  },
  {
   "cell_type": "code",
   "execution_count": 192,
   "metadata": {},
   "outputs": [
    {
     "data": {
      "text/plain": [
       "array([0.26666667, 0.53333333, 0.26666667, 0.53333333])"
      ]
     },
     "execution_count": 192,
     "metadata": {},
     "output_type": "execute_result"
    }
   ],
   "source": [
    "np.hstack([ans, ans])"
   ]
  },
  {
   "cell_type": "code",
   "execution_count": 354,
   "metadata": {},
   "outputs": [
    {
     "data": {
      "text/plain": [
       "Text(0.5, 1.0, 'Iterations=500, skewness=-0.3049, kurtosis=-1.8321')"
      ]
     },
     "execution_count": 354,
     "metadata": {},
     "output_type": "execute_result"
    },
    {
     "data": {
      "image/png": "[encoded data removed]",
      "text/plain": [
       "<Figure size 640x480 with 1 Axes>"
      ]
     },
     "metadata": {},
     "output_type": "display_data"
    }
   ],
   "source": [
    "%matplotlib inline\n",
    "prob_yes = 0.75\n",
    "maxiter = 500\n",
    "\n",
    "init_sched = \"TBD\"\n",
    "sched = pd.Series(init_sched, index=df.index)\n",
    "# sched.iloc[0] = \"Sagar\"\n",
    "# counts = sched.value_counts()\n",
    "\n",
    "for i in range(maxiter):\n",
    "    sched = cs.schedule(df, sched, prob_yes)  # - 0.35 * i / maxiter)\n",
    "    counts = sched.value_counts()\n",
    "    if counts.max() <= 5 and counts.min() > 3:\n",
    "        break\n",
    "\n",
    "\n",
    "fig, ax = plt.subplots()\n",
    "counts.plot(\"bar\", ax=ax)\n",
    "skewness = counts.skew()\n",
    "kurtosis = counts.kurtosis()\n",
    "ax.set_title(f\"Iterations={i+1}, skewness={skewness:.4f}, kurtosis={kurtosis:.4f}\")"
   ]
  },
  {
   "cell_type": "code",
   "execution_count": 355,
   "metadata": {},
   "outputs": [
    {
     "data": {
      "text/plain": [
       "2018-11-26 10:00:00        Sagar\n",
       "2018-11-26 13:00:00        Arash\n",
       "2018-11-26 15:00:00       Ashwin\n",
       "2018-11-27 08:00:00        Sagar\n",
       "2018-11-27 13:00:00       Aidan \n",
       "2018-11-27 15:00:00      Elektra\n",
       "2018-11-28 13:00:00       Aidan \n",
       "2018-11-28 15:00:00        Arash\n",
       "2018-11-29 08:00:00       Aidan \n",
       "2018-11-29 13:00:00          Ali\n",
       "2018-11-29 15:00:00        Arash\n",
       "2018-11-30 13:00:00       Aidan \n",
       "2018-11-30 15:00:00          Ali\n",
       "2018-12-03 08:00:00       Ashwin\n",
       "2018-12-03 15:00:00    Guillaume\n",
       "2018-12-04 08:00:00       Ashwin\n",
       "2018-12-04 13:00:00          Ali\n",
       "2018-12-04 15:00:00    Guillaume\n",
       "2018-12-05 08:00:00      Elektra\n",
       "2018-12-05 13:00:00          Ali\n",
       "2018-12-05 15:00:00       Ashwin\n",
       "2018-12-06 08:00:00    Guillaume\n",
       "2018-12-06 13:00:00       Ashwin\n",
       "2018-12-06 15:00:00    Guillaume\n",
       "2018-12-07 15:00:00       Ashwin\n",
       "2018-12-10 08:00:00       Aidan \n",
       "2018-12-10 10:00:00      Elektra\n",
       "2018-12-11 08:00:00       Aidan \n",
       "2018-12-11 13:00:00    Guillaume\n",
       "2018-12-11 15:00:00          Ali\n",
       "dtype: object"
      ]
     },
     "execution_count": 355,
     "metadata": {},
     "output_type": "execute_result"
    }
   ],
   "source": [
    "sched"
   ]
  },
  {
   "cell_type": "code",
   "execution_count": 335,
   "metadata": {},
   "outputs": [
    {
     "data": {
      "text/plain": [
       "Elektra      6\n",
       "Aidan        6\n",
       "Ashwin       5\n",
       "Ali          5\n",
       "Guillaume    4\n",
       "Arash        4\n",
       "dtype: int64"
      ]
     },
     "execution_count": 335,
     "metadata": {},
     "output_type": "execute_result"
    }
   ],
   "source": [
    "sched.value_counts()"
   ]
  },
  {
   "cell_type": "code",
   "execution_count": 143,
   "metadata": {},
   "outputs": [
    {
     "data": {
      "text/plain": [
       "Guillaume    5\n",
       "Aidan        5\n",
       "Ali          5\n",
       "Elektra      5\n",
       "Ashwin       5\n",
       "Arash        4\n",
       "Sagar        1\n",
       "dtype: int64"
      ]
     },
     "execution_count": 143,
     "metadata": {},
     "output_type": "execute_result"
    }
   ],
   "source": [
    "counts"
   ]
  },
  {
   "cell_type": "code",
   "execution_count": 144,
   "metadata": {},
   "outputs": [
    {
     "data": {
      "text/html": [
       "<div>\n",
       "<style scoped>\n",
       "    .dataframe tbody tr th:only-of-type {\n",
       "        vertical-align: middle;\n",
       "    }\n",
       "\n",
       "    .dataframe tbody tr th {\n",
       "        vertical-align: top;\n",
       "    }\n",
       "\n",
       "    .dataframe thead th {\n",
       "        text-align: right;\n",
       "    }\n",
       "</style>\n",
       "<table border=\"1\" class=\"dataframe\">\n",
       "  <thead>\n",
       "    <tr style=\"text-align: right;\">\n",
       "      <th></th>\n",
       "      <th>TA</th>\n",
       "    </tr>\n",
       "  </thead>\n",
       "  <tbody>\n",
       "    <tr>\n",
       "      <th>2018-11-26 10:00:00</th>\n",
       "      <td>Aidan</td>\n",
       "    </tr>\n",
       "    <tr>\n",
       "      <th>2018-11-26 13:00:00</th>\n",
       "      <td>Arash</td>\n",
       "    </tr>\n",
       "    <tr>\n",
       "      <th>2018-11-26 15:00:00</th>\n",
       "      <td>Ashwin</td>\n",
       "    </tr>\n",
       "    <tr>\n",
       "      <th>2018-11-27 08:00:00</th>\n",
       "      <td>Sagar</td>\n",
       "    </tr>\n",
       "    <tr>\n",
       "      <th>2018-11-27 13:00:00</th>\n",
       "      <td>Elektra</td>\n",
       "    </tr>\n",
       "  </tbody>\n",
       "</table>\n",
       "</div>"
      ],
      "text/plain": [
       "                          TA\n",
       "2018-11-26 10:00:00   Aidan \n",
       "2018-11-26 13:00:00    Arash\n",
       "2018-11-26 15:00:00   Ashwin\n",
       "2018-11-27 08:00:00    Sagar\n",
       "2018-11-27 13:00:00  Elektra"
      ]
     },
     "execution_count": 144,
     "metadata": {},
     "output_type": "execute_result"
    }
   ],
   "source": [
    "df_sched = pd.DataFrame(sched.astype(\"category\"), columns=[\"TA\"])\n",
    "df_sched.head()"
   ]
  },
  {
   "cell_type": "code",
   "execution_count": 145,
   "metadata": {},
   "outputs": [
    {
     "ename": "AttributeError",
     "evalue": "'AxesSubplot' object has no attribute 'savefig'",
     "output_type": "error",
     "traceback": [
      "\u001b[0;31m---------------------------------------------------------------------------\u001b[0m",
      "\u001b[0;31mAttributeError\u001b[0m                            Traceback (most recent call last)",
      "\u001b[0;32m<ipython-input-145-da7b9028c1f2>\u001b[0m in \u001b[0;36m<module>\u001b[0;34m\u001b[0m\n\u001b[1;32m      4\u001b[0m \u001b[0mdf_sched\u001b[0m\u001b[0;34m.\u001b[0m\u001b[0mto_csv\u001b[0m\u001b[0;34m(\u001b[0m\u001b[0;34mf\"output/sched_{timestamp}.csv\"\u001b[0m\u001b[0;34m)\u001b[0m\u001b[0;34m\u001b[0m\u001b[0;34m\u001b[0m\u001b[0m\n\u001b[1;32m      5\u001b[0m \u001b[0;34m\u001b[0m\u001b[0m\n\u001b[0;32m----> 6\u001b[0;31m \u001b[0mfig\u001b[0m\u001b[0;34m.\u001b[0m\u001b[0msavefig\u001b[0m\u001b[0;34m(\u001b[0m\u001b[0;34mf\"output/sched_{timestamp}.png\"\u001b[0m\u001b[0;34m)\u001b[0m\u001b[0;34m\u001b[0m\u001b[0;34m\u001b[0m\u001b[0m\n\u001b[0m",
      "\u001b[0;31mAttributeError\u001b[0m: 'AxesSubplot' object has no attribute 'savefig'"
     ]
    }
   ],
   "source": [
    "from datetime import datetime\n",
    "\n",
    "timestamp = datetime.strftime(datetime.now(), \"%Y%m%d-%X\")\n",
    "df_sched.to_csv(f\"output/sched_{timestamp}.csv\")\n",
    "\n",
    "fig.savefig(f\"output/sched_{timestamp}.png\")"
   ]
  }
 ],
 "metadata": {
  "kernelspec": {
   "display_name": "Python 3",
   "language": "python",
   "name": "python3"
  },
  "language_info": {
   "codemirror_mode": {
    "name": "ipython",
    "version": 3
   },
   "file_extension": ".py",
   "mimetype": "text/x-python",
   "name": "python",
   "nbconvert_exporter": "python",
   "pygments_lexer": "ipython3",
   "version": "3.7.1"
  }
 },
 "nbformat": 4,
 "nbformat_minor": 2
}
